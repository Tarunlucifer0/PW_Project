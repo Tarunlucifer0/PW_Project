{
 "cells": [
  {
   "cell_type": "code",
   "execution_count": 3,
   "id": "c3081249-ca37-4ada-8a86-09b000d8a392",
   "metadata": {},
   "outputs": [
    {
     "name": "stdin",
     "output_type": "stream",
     "text": [
      "enter the Tempreture in celcius: 18\n"
     ]
    },
    {
     "name": "stdout",
     "output_type": "stream",
     "text": [
      "Tempreture in fehrenheit: 64.4\n"
     ]
    }
   ],
   "source": [
    "# Program to convert Tempreture from celcius to fehrenheit\n",
    "\n",
    "C=float(input(\"enter the Tempreture in celcius:\"))\n",
    "F=(C*1.8)+32\n",
    "print(\"Tempreture in fehrenheit:\",F)"
   ]
  },
  {
   "cell_type": "code",
   "execution_count": null,
   "id": "6bd3b698-93b7-4c10-9a18-e7af8d8092c5",
   "metadata": {},
   "outputs": [],
   "source": []
  }
 ],
 "metadata": {
  "kernelspec": {
   "display_name": "Python 3 (ipykernel)",
   "language": "python",
   "name": "python3"
  },
  "language_info": {
   "codemirror_mode": {
    "name": "ipython",
    "version": 3
   },
   "file_extension": ".py",
   "mimetype": "text/x-python",
   "name": "python",
   "nbconvert_exporter": "python",
   "pygments_lexer": "ipython3",
   "version": "3.10.8"
  }
 },
 "nbformat": 4,
 "nbformat_minor": 5
}
