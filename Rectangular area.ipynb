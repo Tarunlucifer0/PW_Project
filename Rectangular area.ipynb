{
 "cells": [
  {
   "cell_type": "code",
   "execution_count": 6,
   "id": "de7b3cdc-21a2-4b88-8aca-679f9ffb9267",
   "metadata": {},
   "outputs": [
    {
     "name": "stdin",
     "output_type": "stream",
     "text": [
      "enter value of length: 6\n",
      "enter the value of width: 8\n"
     ]
    },
    {
     "name": "stdout",
     "output_type": "stream",
     "text": [
      "The area of rectengular is: 48\n"
     ]
    }
   ],
   "source": [
    "# program to calculate area of a rectangular\n",
    " \n",
    "length=int(input(\"enter value of length:\"))    \n",
    "width=int(input(\"enter the value of width:\"))\n",
    "Rect_Area=length*width\n",
    "print(\"The area of rectengular is:\",Rect_Area)"
   ]
  },
  {
   "cell_type": "code",
   "execution_count": null,
   "id": "43cc80c1-9c9d-463a-ba59-53d20f0ffcbf",
   "metadata": {},
   "outputs": [],
   "source": []
  }
 ],
 "metadata": {
  "kernelspec": {
   "display_name": "Python 3 (ipykernel)",
   "language": "python",
   "name": "python3"
  },
  "language_info": {
   "codemirror_mode": {
    "name": "ipython",
    "version": 3
   },
   "file_extension": ".py",
   "mimetype": "text/x-python",
   "name": "python",
   "nbconvert_exporter": "python",
   "pygments_lexer": "ipython3",
   "version": "3.10.8"
  }
 },
 "nbformat": 4,
 "nbformat_minor": 5
}
