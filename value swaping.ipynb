{
 "cells": [
  {
   "cell_type": "code",
   "execution_count": 5,
   "id": "4c26a9f0-ffcd-4ba2-93a3-27b45a58498a",
   "metadata": {},
   "outputs": [
    {
     "name": "stdout",
     "output_type": "stream",
     "text": [
      "before swapping\n",
      " A= 10 \n",
      " B= 20\n",
      "after swapping\n",
      " A= 20 \n",
      " B= 10\n"
     ]
    }
   ],
   "source": [
    "A=10\n",
    "B=20\n",
    "print(\"before swapping\\n A=\",A,\"\\n B=\",B)\n",
    "A,B=B,A\n",
    "print(\"after swapping\\n A=\",A,\"\\n B=\",B)"
   ]
  },
  {
   "cell_type": "code",
   "execution_count": null,
   "id": "aa36328b-b921-44a1-8601-b7958b91e3c7",
   "metadata": {},
   "outputs": [],
   "source": []
  }
 ],
 "metadata": {
  "kernelspec": {
   "display_name": "Python 3 (ipykernel)",
   "language": "python",
   "name": "python3"
  },
  "language_info": {
   "codemirror_mode": {
    "name": "ipython",
    "version": 3
   },
   "file_extension": ".py",
   "mimetype": "text/x-python",
   "name": "python",
   "nbconvert_exporter": "python",
   "pygments_lexer": "ipython3",
   "version": "3.10.8"
  }
 },
 "nbformat": 4,
 "nbformat_minor": 5
}
